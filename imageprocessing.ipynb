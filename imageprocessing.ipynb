{
 "cells": [
  {
   "cell_type": "code",
   "execution_count": 20,
   "metadata": {},
   "outputs": [],
   "source": [
    "import albumentations as A\n",
    "import cv2\n",
    "import numpy as np\n",
    "import os\n",
    "from PIL import Image\n",
    "import imagehash\n",
    "from imagehash import ImageHash\n",
    "from helpers import resize_image_greyscale_save\n",
    "from helpers import resize_image_save\n",
    "\n",
    "import pandas as pd"
   ]
  },
  {
   "cell_type": "code",
   "execution_count": 21,
   "metadata": {},
   "outputs": [],
   "source": [
    "\n",
    "def iterate_images_and_save_to_csv(folder_path, output_csv_path):\n",
    "    data = []\n",
    "\n",
    "    # Iterate through each folder within the main folder\n",
    "    for subdir, _, files in os.walk(folder_path):\n",
    "        for file in files:\n",
    "            if file.endswith(('png', 'jpg', 'jpeg', 'bmp', 'gif')):\n",
    "                image_path = os.path.join(subdir, file)\n",
    "                image = Image.open(image_path)\n",
    "                image = image.convert('L')\n",
    "                phash16 = imagehash.phash(image, hash_size=16)\n",
    "                phash32 = imagehash.phash(image, hash_size=32)\n",
    "                phash64 = imagehash.phash(image, hash_size=64)\n",
    "                phash128 = imagehash.phash(image, hash_size=128)\n",
    "                phash256 = imagehash.phash(image, hash_size=256)\n",
    "                filename = os.path.basename(image_path)\n",
    "                data.append([filename, phash16, phash32, phash64, phash128, phash256])\n",
    "\n",
    "                print(f'Computed phash for {file}')\n",
    "\n",
    "    # Create a pandas DataFrame\n",
    "    df = pd.DataFrame(data, columns=['Filename', 'Phash16', 'Phash32', 'Phash64', 'Phash128', 'Phash256'])\n",
    "\n",
    "    # Save DataFrame to CSV\n",
    "    df.to_csv(output_csv_path, index=False)"
   ]
  },
  {
   "cell_type": "code",
   "execution_count": 22,
   "metadata": {},
   "outputs": [],
   "source": [
    "folder_path = 'pokemon-tcg-images'\n",
    "output_csv_path = 'pokemon-tcg-image-data.csv'\n",
    "# iterate_images_and_save_to_csv(folder_path, output_csv_path)"
   ]
  },
  {
   "cell_type": "code",
   "execution_count": 36,
   "metadata": {},
   "outputs": [],
   "source": [
    "hash_size = 16\n",
    "\n",
    "charizard_image = Image.open('pokemon-tcg-images/base1-4/base1-4.png')\n",
    "charizard_image_real = Image.open('pokemon-tcg-test-images/basesetcharizard.png')\n",
    "alakazam_image = Image.open('pokemon-tcg-images/base1-1/base1-1.png')\n",
    "charizardxy_image_real = Image.open('pokemon-tcg-test-images/xycharizard_resized.png')\n",
    "groudon_image_real = Image.open('pokemon-tcg-test-images/groudonparadoxrift.png').resize((240, 330)).convert('L')\n",
    "\n",
    "charizard_image_grey = charizard_image.convert('L')\n",
    "charizard_image_real_grey = charizard_image_real.convert('L')\n",
    "alakazam_image = alakazam_image.convert('L')\n",
    "charizardxy_image_real_grey = charizardxy_image_real.convert('L')\n",
    "\n",
    "# resize_image_save('pokemon-tcg-test-images/metagross.png', 'metagross')\n",
    "# resize_image_greyscale_save('pokemon-tcg-test-images/metagross.png', 'metagross')\n",
    "phash = imagehash.phash(Image.open('pokemon-tcg-test-images/rayquazavmax.png').resize((240, 330)).convert('L'), hash_size=hash_size)\n"
   ]
  },
  {
   "cell_type": "code",
   "execution_count": 37,
   "metadata": {},
   "outputs": [
    {
     "name": "stdout",
     "output_type": "stream",
     "text": [
      "Top 5 closest images:\n",
      "swsh7-218.png with distance 86\n",
      "ecard3-24.png with distance 92\n",
      "swsh6-113.png with distance 96\n",
      "sm10-120.png with distance 98\n",
      "swsh12tg-TG19.png with distance 98\n"
     ]
    }
   ],
   "source": [
    "df = pd.read_csv(output_csv_path)\n",
    "\n",
    "distances = []\n",
    "\n",
    "filenames = df['Filename'].tolist()\n",
    "phashes = df[f'Phash{hash_size}'].tolist()\n",
    "\n",
    "\n",
    "for i in range(len(phashes)):\n",
    "    distance = phash - imagehash.hex_to_hash(phashes[i])\n",
    "    distances.append((filenames[i], distance))\n",
    "\n",
    "distances.sort(key=lambda x: x[1])\n",
    "\n",
    "print('Top 5 closest images:')\n",
    "for (filename, distance) in distances[:5]:\n",
    "    print(f'{filename} with distance {distance}')\n",
    "    image_path = os.path.join('pokemon-tcg-images', filename.removesuffix('.png'), filename)\n",
    "    read_image = cv2.imread(image_path)\n",
    "\n",
    "#     if read_image is not None:\n",
    "#         cv2.imshow(\"file\", read_image)\n",
    "\n",
    "# cv2.waitKey(0)\n",
    "# cv2.destroyAllWindows()"
   ]
  }
 ],
 "metadata": {
  "kernelspec": {
   "display_name": "testenv2",
   "language": "python",
   "name": "python3"
  },
  "language_info": {
   "codemirror_mode": {
    "name": "ipython",
    "version": 3
   },
   "file_extension": ".py",
   "mimetype": "text/x-python",
   "name": "python",
   "nbconvert_exporter": "python",
   "pygments_lexer": "ipython3",
   "version": "3.10.12"
  }
 },
 "nbformat": 4,
 "nbformat_minor": 2
}
